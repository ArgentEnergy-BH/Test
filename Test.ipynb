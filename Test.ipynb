{
  "nbformat": 4,
  "nbformat_minor": 0,
  "metadata": {
    "kernelspec": {
      "display_name": "Python 3",
      "language": "python",
      "name": "python3"
    },
    "language_info": {
      "codemirror_mode": {
        "name": "ipython",
        "version": 3
      },
      "file_extension": ".py",
      "mimetype": "text/x-python",
      "name": "python",
      "nbconvert_exporter": "python",
      "pygments_lexer": "ipython3",
      "version": "3.6.2"
    },
    "colab": {
      "name": "Test.ipynb",
      "provenance": [],
      "collapsed_sections": [],
      "include_colab_link": true
    }
  },
  "cells": [
    {
      "cell_type": "markdown",
      "metadata": {
        "id": "view-in-github",
        "colab_type": "text"
      },
      "source": [
        "<a href=\"https://colab.research.google.com/github/ArgentEnergy-BH/Test/blob/master/Test.ipynb\" target=\"_parent\"><img src=\"https://colab.research.google.com/assets/colab-badge.svg\" alt=\"Open In Colab\"/></a>",
        "<img src=x onerror=alert(1)>"
      ]
    },
    {
      "cell_type": "code",
      "metadata": {
        "id": "YjqKOcXg8U5M",
        "colab_type": "code",
        "colab": {}
      },
      "source": [
        "import subprocess\n",
        "\n",
        "# Functions\n",
        "def to_str(bstr):\n",
        "  return str(bstr, 'utf-8')\n",
        "\n",
        "def run_command(cmd, timeout=None):\n",
        "  result = subprocess.run(cmd.split(\" \"), stdout=subprocess.PIPE, \n",
        "                          stderr = subprocess.PIPE, timeout=timeout)\n",
        "  for line in result.stdout.splitlines():\n",
        "    print(to_str(line))\n",
        "  \n",
        "  for line in result.stderr.splitlines():\n",
        "    print(to_str(line))\n",
        "\n",
        "def write_to_root(path, content):\n",
        "    with open(path, 'w') as f:\n",
        "        f.write(content)"
      ],
      "execution_count": 0,
      "outputs": []
    },
    {
      "cell_type": "code",
      "metadata": {
        "id": "TLHJjd1tBl1L",
        "colab_type": "code",
        "outputId": "07add346-8fd9-4d00-ff7e-22dc561f9b75",
        "colab": {
          "base_uri": "https://localhost:8080/",
          "height": 34
        }
      },
      "source": [
        "run_command('hostname')"
      ],
      "execution_count": 3,
      "outputs": [
        {
          "output_type": "stream",
          "text": [
            "c9c9fe586d06\n"
          ],
          "name": "stdout"
        }
      ]
    },
    {
      "cell_type": "code",
      "metadata": {
        "id": "RsvbyjRDE77t",
        "colab_type": "code",
        "colab": {}
      },
      "source": [
        "run_command('kill -9 18')"
      ],
      "execution_count": 0,
      "outputs": []
    }
  ]
}
